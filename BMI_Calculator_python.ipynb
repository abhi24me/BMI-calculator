{
 "cells": [
  {
   "cell_type": "code",
   "execution_count": 13,
   "metadata": {},
   "outputs": [
    {
     "name": "stdout",
     "output_type": "stream",
     "text": [
      "enter you height in feet :5\n",
      "enter you height in inches :9\n",
      "enter your weight in kilogram :58\n",
      "18.88262545691233\n",
      "normal : you need to take 100gm of protien per day\n"
     ]
    }
   ],
   "source": [
    "# BMI CALCULATOR \n",
    "hf= float(input('enter you height in feet :'))\n",
    "hi= float(input('enter you height in inches :'))\n",
    "h = (hf*30.48)+(hi*2.54)\n",
    "w= float(input('enter your weight in kilogram :'))\n",
    "bmi= (w/h**2)*10000\n",
    "print(bmi)\n",
    "\n",
    "if bmi>25:\n",
    "    print('Over Weight : You need to subtract carbs')\n",
    "elif bmi<=24.9 and bmi>18.5:\n",
    "    print('Normal : You need to take 100gm of protien per day')\n",
    "elif bmi<=18.5:\n",
    "    print('Under Weight : You need to add carbs in your diet')\n",
    "else:\n",
    "    print('Invalid Credentials')\n",
    "    \n",
    "#1 foot = 30.48 centimeters.\n",
    "#1 inch = 2.54 centimeters.\n",
    "#To convert kg into pounds you have to multiply it by 2.205\n",
    "#A BMI below 18.5 means that you are underweight.\n",
    "#A BMI of 18.6 to 24.9 is healthy.\n",
    "#A BMI of 25 to 29.9 means that you are overweight.\n",
    "#A BMI of 30 or greater indicates obesity."
   ]
  },
  {
   "cell_type": "code",
   "execution_count": null,
   "metadata": {},
   "outputs": [],
   "source": []
  }
 ],
 "metadata": {
  "kernelspec": {
   "display_name": "Python 3",
   "language": "python",
   "name": "python3"
  },
  "language_info": {
   "codemirror_mode": {
    "name": "ipython",
    "version": 3
   },
   "file_extension": ".py",
   "mimetype": "text/x-python",
   "name": "python",
   "nbconvert_exporter": "python",
   "pygments_lexer": "ipython3",
   "version": "3.8.5"
  }
 },
 "nbformat": 4,
 "nbformat_minor": 4
}
