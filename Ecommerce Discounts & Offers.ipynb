{
 "cells": [
  {
   "cell_type": "code",
   "execution_count": 9,
   "metadata": {},
   "outputs": [
    {
     "name": "stdout",
     "output_type": "stream",
     "text": [
      "please select your category : \n",
      "1: electronics \n",
      "2: appliances \n",
      "3: baby products \n",
      "4: personal care\n",
      "baby products\n",
      "we have 40% off on price\n"
     ]
    }
   ],
   "source": [
    "# ECOMMERCE DISCOUNTS AND OFFERS\n",
    "def big_sales ():\n",
    "    p_cat=input('please select your category : \\n1: electronics \\n2: appliances \\n3: baby products \\n4: personal care\\n')\n",
    "    p_cat = p_cat.lower()\n",
    "    if p_cat=='electronics' or  p_cat=='appliances' or  p_cat==\"baby products\"  or p_cat=='personal care':\n",
    "        if p_cat=='electronics':\n",
    "            off=input('select from these : \\n1: phones \\n2: laptops \\n3: ac & fridge\\n')\n",
    "            off = off.lower()\n",
    "            if off=='phones':\n",
    "                print('we have 10% off on price')\n",
    "            elif off=='laptops':\n",
    "                print('we have 5% off on price')\n",
    "            elif off=='ac' or \"&\" or \"fridge\":\n",
    "                print('we have 20% off on price')\n",
    "            else:\n",
    "                print('invalid')\n",
    "        elif p_cat=='appliances':\n",
    "            \n",
    "            ap=input('select from these : \\n1: male \\n2: female\\n')\n",
    "            ap = ap.lower()\n",
    "            if ap=='male':\n",
    "                print('agle janam me ladki ban k aana')\n",
    "            elif ap=='female':\n",
    "                print('we have 5% off on price')\n",
    "            else:\n",
    "                print('not avl')\n",
    "        elif p_cat=='baby products' :\n",
    "            print('we have 40% off on price')\n",
    "            \n",
    "        elif p_cat=='personal':\n",
    "            print('shop above 600 to get 50% off')\n",
    "        else:\n",
    "            ('pta ni kya chahiye tumhe ?')\n",
    "    else:\n",
    "        print('galat jageh aa gye ho')\n",
    "        \n",
    "big_sales()"
   ]
  }
 ],
 "metadata": {
  "kernelspec": {
   "display_name": "Python 3",
   "language": "python",
   "name": "python3"
  },
  "language_info": {
   "codemirror_mode": {
    "name": "ipython",
    "version": 3
   },
   "file_extension": ".py",
   "mimetype": "text/x-python",
   "name": "python",
   "nbconvert_exporter": "python",
   "pygments_lexer": "ipython3",
   "version": "3.8.5"
  }
 },
 "nbformat": 4,
 "nbformat_minor": 4
}
